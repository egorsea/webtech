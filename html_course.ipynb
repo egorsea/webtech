{
 "cells": [
  {
   "attachments": {},
   "cell_type": "markdown",
   "metadata": {},
   "source": [
    "…or create a new repository on the command line\n",
    "echo \"# webtech\" >> README.md\n",
    "git init\n",
    "git add README.md\n",
    "git commit -m \"first commit\"\n",
    "git branch -M main\n",
    "git remote add origin https://github.com/egorsea/webtech.git\n",
    "git push -u origin main\n",
    "…or push an existing repository from the command line\n",
    "git remote add origin https://github.com/egorsea/webtech.git\n",
    "git branch -M main\n",
    "git push -u origin main\n",
    "…or import code from another repository\n",
    "You can initialize this repository with code from a Subversion, Mercurial, or TFS project."
   ]
  },
  {
   "cell_type": "code",
   "execution_count": null,
   "metadata": {},
   "outputs": [],
   "source": [
    "import socket\n",
    "req = 'Hello tcp!'\n",
    "s = socket.socket(socket.AF_INET, socket.SOCK_STREAM)\n",
    "s.connect(('127.0.0.1', 1234))\n",
    "s.send(req)\n",
    "rsp = s.recv(1024)\n",
    "s.close()\n"
   ]
  },
  {
   "cell_type": "code",
   "execution_count": 1,
   "metadata": {},
   "outputs": [],
   "source": [
    "import socket\n",
    "s = socket.socket(socket.AF_INET, socket.SOCK_STREAM)\n",
    "s.bind(('0.0.0.0', 2222))\n",
    "s.listen(5)\n",
    "while True:\n",
    "    conn, addr = s.accept()\n",
    "    while True:\n",
    "        data = conn.recv(1024)\n",
    "        if not data or data == 'close': break\n",
    "        conn.send(data)\n",
    "    conn.close()"
   ]
  },
  {
   "cell_type": "code",
   "execution_count": 8,
   "metadata": {},
   "outputs": [
    {
     "name": "stdout",
     "output_type": "stream",
     "text": [
      "{'a': '2', 'b': '3'}\n"
     ]
    }
   ],
   "source": [
    "a = '/?a=1&a=2&b=3'\n",
    "url = 'https://oauth.vk.com/blank.html?a=1&a=2&b=3'\n",
    "\n",
    "params = url.split('?')[1].split('&')\n",
    "\n",
    "token = {}\n",
    "for i in params:\n",
    "    x = i.split('=')\n",
    "    token.update({x[0]: x[1]})\n",
    "\n",
    "print(token)"
   ]
  },
  {
   "cell_type": "code",
   "execution_count": 18,
   "metadata": {},
   "outputs": [
    {
     "name": "stdout",
     "output_type": "stream",
     "text": [
      "a=1\n",
      "a=2\n",
      "b=3\n"
     ]
    },
    {
     "ename": "AttributeError",
     "evalue": "'list' object has no attribute 'encode'",
     "output_type": "error",
     "traceback": [
      "\u001b[1;31m---------------------------------------------------------------------------\u001b[0m",
      "\u001b[1;31mAttributeError\u001b[0m                            Traceback (most recent call last)",
      "Cell \u001b[1;32mIn [18], line 7\u001b[0m\n\u001b[0;32m      4\u001b[0m \u001b[39mfor\u001b[39;00m i \u001b[39min\u001b[39;00m params:\n\u001b[0;32m      5\u001b[0m     \u001b[39mprint\u001b[39m (i)\n\u001b[1;32m----> 7\u001b[0m \u001b[39miter\u001b[39m([params\u001b[39m.\u001b[39;49mencode(\u001b[39m'\u001b[39m\u001b[39mutf-8\u001b[39m\u001b[39m'\u001b[39m)])\n",
      "\u001b[1;31mAttributeError\u001b[0m: 'list' object has no attribute 'encode'"
     ]
    }
   ],
   "source": [
    "\n",
    "url = 'https://oauth.vk.com/blank.html?a=1&a=2&b=3'\n",
    "\n",
    "params = url.split('?')[1].split('&')\n",
    "for i in params:\n",
    "    print (i)\n",
    "    \n",
    "\n",
    "\"\\n\".join(environ.get('QUERY_STRING').split(\"&\"))\n",
    "# iter([params.encode('utf-8')])"
   ]
  }
 ],
 "metadata": {
  "kernelspec": {
   "display_name": "Python 3",
   "language": "python",
   "name": "python3"
  },
  "language_info": {
   "codemirror_mode": {
    "name": "ipython",
    "version": 3
   },
   "file_extension": ".py",
   "mimetype": "text/x-python",
   "name": "python",
   "nbconvert_exporter": "python",
   "pygments_lexer": "ipython3",
   "version": "3.10.9"
  },
  "orig_nbformat": 4,
  "vscode": {
   "interpreter": {
    "hash": "ac9b9e84abeb210f4ed304763a3407f98a7d6f7b23eb0ef529c957140bb3657f"
   }
  }
 },
 "nbformat": 4,
 "nbformat_minor": 2
}
