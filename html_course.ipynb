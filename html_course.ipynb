{
 "cells": [
  {
   "attachments": {},
   "cell_type": "markdown",
   "metadata": {},
   "source": [
    "…or create a new repository on the command line\n",
    "echo \"# webtech\" >> README.md\n",
    "git init\n",
    "git add README.md\n",
    "git commit -m \"first commit\"\n",
    "git branch -M main\n",
    "git remote add origin https://github.com/egorsea/webtech.git\n",
    "git push -u origin main\n",
    "…or push an existing repository from the command line\n",
    "git remote add origin https://github.com/egorsea/webtech.git\n",
    "git branch -M main\n",
    "git push -u origin main\n",
    "…or import code from another repository\n",
    "You can initialize this repository with code from a Subversion, Mercurial, or TFS project."
   ]
  },
  {
   "cell_type": "code",
   "execution_count": null,
   "metadata": {},
   "outputs": [],
   "source": [
    "import socket\n",
    "req = 'Hello tcp!'\n",
    "s = socket.socket(socket.AF_INET, socket.SOCK_STREAM)\n",
    "s.connect(('127.0.0.1', 1234))\n",
    "s.send(req)\n",
    "rsp = s.recv(1024)\n",
    "s.close()\n"
   ]
  },
  {
   "cell_type": "code",
   "execution_count": 1,
   "metadata": {},
   "outputs": [],
   "source": [
    "import socket\n",
    "s = socket.socket(socket.AF_INET, socket.SOCK_STREAM)\n",
    "s.bind(('0.0.0.0', 2222))\n",
    "s.listen(5)\n",
    "while True:\n",
    "    conn, addr = s.accept()\n",
    "    while True:\n",
    "        data = conn.recv(1024)\n",
    "        if not data or data == 'close': break\n",
    "        conn.send(data)\n",
    "    conn.close()"
   ]
  }
 ],
 "metadata": {
  "kernelspec": {
   "display_name": "Python 3",
   "language": "python",
   "name": "python3"
  },
  "language_info": {
   "codemirror_mode": {
    "name": "ipython",
    "version": 3
   },
   "file_extension": ".py",
   "mimetype": "text/x-python",
   "name": "python",
   "nbconvert_exporter": "python",
   "pygments_lexer": "ipython3",
   "version": "3.10.9"
  },
  "orig_nbformat": 4,
  "vscode": {
   "interpreter": {
    "hash": "ac9b9e84abeb210f4ed304763a3407f98a7d6f7b23eb0ef529c957140bb3657f"
   }
  }
 },
 "nbformat": 4,
 "nbformat_minor": 2
}
